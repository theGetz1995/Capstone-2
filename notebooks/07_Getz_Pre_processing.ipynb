{
 "cells": [
  {
   "cell_type": "markdown",
   "metadata": {},
   "source": [
    "# Imports"
   ]
  },
  {
   "cell_type": "code",
   "execution_count": 1,
   "metadata": {},
   "outputs": [],
   "source": [
    "import numpy as np\n",
    "import pandas as pd\n",
    "import matplotlib.pyplot as plt\n",
    "from sklearn.preprocessing import RobustScaler\n",
    "from sklearn.model_selection import train_test_split"
   ]
  },
  {
   "cell_type": "markdown",
   "metadata": {},
   "source": [
    "Load the data"
   ]
  },
  {
   "cell_type": "code",
   "execution_count": 2,
   "metadata": {},
   "outputs": [
    {
     "name": "stdout",
     "output_type": "stream",
     "text": [
      "<class 'pandas.core.frame.DataFrame'>\n",
      "Int64Index: 3337 entries, 0 to 3336\n",
      "Data columns (total 20 columns):\n",
      " #   Column                Non-Null Count  Dtype  \n",
      "---  ------                --------------  -----  \n",
      " 0   GameID                3337 non-null   int64  \n",
      " 1   LeagueIndex           3337 non-null   int64  \n",
      " 2   Age                   3337 non-null   int64  \n",
      " 3   HoursPerWeek          3337 non-null   int64  \n",
      " 4   TotalHours            3337 non-null   int64  \n",
      " 5   APM                   3337 non-null   float64\n",
      " 6   SelectByHotkeys       3337 non-null   float64\n",
      " 7   AssignToHotkeys       3337 non-null   float64\n",
      " 8   UniqueHotkeys         3337 non-null   int64  \n",
      " 9   MinimapAttacks        3337 non-null   float64\n",
      " 10  MinimapRightClicks    3337 non-null   float64\n",
      " 11  NumberOfPACs          3337 non-null   float64\n",
      " 12  GapBetweenPACs        3337 non-null   float64\n",
      " 13  ActionLatency         3337 non-null   float64\n",
      " 14  ActionsInPAC          3337 non-null   float64\n",
      " 15  TotalMapExplored      3337 non-null   int64  \n",
      " 16  WorkersMade           3337 non-null   float64\n",
      " 17  UniqueUnitsMade       3337 non-null   int64  \n",
      " 18  ComplexUnitsMade      3337 non-null   float64\n",
      " 19  ComplexAbilitiesUsed  3337 non-null   float64\n",
      "dtypes: float64(12), int64(8)\n",
      "memory usage: 547.5 KB\n"
     ]
    }
   ],
   "source": [
    "starcraft_loc = '../data/interimStarcraft_cleaned.csv'\n",
    "#using index_col = 0 to drop the uncessary number column added by saving the data from the previous notebook.\n",
    "starcraft = pd.read_csv(starcraft_loc,index_col = 0)\n",
    "starcraft.info()\n",
    "feat_names = ['Age','HoursPerWeek','TotalHours','APM','SelectByHotkeys','AssignToHotkeys','UniqueHotkeys','MinimapAttacks','MinimapRightClicks','NumberOfPACs','GapBetweenPACs','ActionLatency','ActionsInPAC','TotalMapExplored','WorkersMade','UniqueUnitsMade','ComplexUnitsMade','ComplexAbilitiesUsed']"
   ]
  },
  {
   "cell_type": "markdown",
   "metadata": {},
   "source": [
    "Create a LogHours column thats the log of the total hours column which EDA has suggested is exponentially distributed"
   ]
  },
  {
   "cell_type": "code",
   "execution_count": 3,
   "metadata": {},
   "outputs": [
    {
     "data": {
      "text/html": [
       "<div>\n",
       "<style scoped>\n",
       "    .dataframe tbody tr th:only-of-type {\n",
       "        vertical-align: middle;\n",
       "    }\n",
       "\n",
       "    .dataframe tbody tr th {\n",
       "        vertical-align: top;\n",
       "    }\n",
       "\n",
       "    .dataframe thead th {\n",
       "        text-align: right;\n",
       "    }\n",
       "</style>\n",
       "<table border=\"1\" class=\"dataframe\">\n",
       "  <thead>\n",
       "    <tr style=\"text-align: right;\">\n",
       "      <th></th>\n",
       "      <th>GameID</th>\n",
       "      <th>LeagueIndex</th>\n",
       "      <th>Age</th>\n",
       "      <th>HoursPerWeek</th>\n",
       "      <th>TotalHours</th>\n",
       "      <th>APM</th>\n",
       "      <th>SelectByHotkeys</th>\n",
       "      <th>AssignToHotkeys</th>\n",
       "      <th>UniqueHotkeys</th>\n",
       "      <th>MinimapAttacks</th>\n",
       "      <th>...</th>\n",
       "      <th>NumberOfPACs</th>\n",
       "      <th>GapBetweenPACs</th>\n",
       "      <th>ActionLatency</th>\n",
       "      <th>ActionsInPAC</th>\n",
       "      <th>TotalMapExplored</th>\n",
       "      <th>WorkersMade</th>\n",
       "      <th>UniqueUnitsMade</th>\n",
       "      <th>ComplexUnitsMade</th>\n",
       "      <th>ComplexAbilitiesUsed</th>\n",
       "      <th>LogHours</th>\n",
       "    </tr>\n",
       "  </thead>\n",
       "  <tbody>\n",
       "    <tr>\n",
       "      <th>0</th>\n",
       "      <td>52</td>\n",
       "      <td>5</td>\n",
       "      <td>27</td>\n",
       "      <td>10</td>\n",
       "      <td>3000</td>\n",
       "      <td>143.7180</td>\n",
       "      <td>0.003515</td>\n",
       "      <td>0.000220</td>\n",
       "      <td>7</td>\n",
       "      <td>0.000110</td>\n",
       "      <td>...</td>\n",
       "      <td>0.004849</td>\n",
       "      <td>32.6677</td>\n",
       "      <td>40.8673</td>\n",
       "      <td>4.7508</td>\n",
       "      <td>28</td>\n",
       "      <td>0.001397</td>\n",
       "      <td>6</td>\n",
       "      <td>0.0</td>\n",
       "      <td>0.000000</td>\n",
       "      <td>8.006368</td>\n",
       "    </tr>\n",
       "    <tr>\n",
       "      <th>1</th>\n",
       "      <td>55</td>\n",
       "      <td>5</td>\n",
       "      <td>23</td>\n",
       "      <td>10</td>\n",
       "      <td>5000</td>\n",
       "      <td>129.2322</td>\n",
       "      <td>0.003304</td>\n",
       "      <td>0.000259</td>\n",
       "      <td>4</td>\n",
       "      <td>0.000294</td>\n",
       "      <td>...</td>\n",
       "      <td>0.004307</td>\n",
       "      <td>32.9194</td>\n",
       "      <td>42.3454</td>\n",
       "      <td>4.8434</td>\n",
       "      <td>22</td>\n",
       "      <td>0.001193</td>\n",
       "      <td>5</td>\n",
       "      <td>0.0</td>\n",
       "      <td>0.000208</td>\n",
       "      <td>8.517193</td>\n",
       "    </tr>\n",
       "    <tr>\n",
       "      <th>2</th>\n",
       "      <td>56</td>\n",
       "      <td>4</td>\n",
       "      <td>30</td>\n",
       "      <td>10</td>\n",
       "      <td>200</td>\n",
       "      <td>69.9612</td>\n",
       "      <td>0.001101</td>\n",
       "      <td>0.000336</td>\n",
       "      <td>4</td>\n",
       "      <td>0.000294</td>\n",
       "      <td>...</td>\n",
       "      <td>0.002926</td>\n",
       "      <td>44.6475</td>\n",
       "      <td>75.3548</td>\n",
       "      <td>4.0430</td>\n",
       "      <td>22</td>\n",
       "      <td>0.000745</td>\n",
       "      <td>6</td>\n",
       "      <td>0.0</td>\n",
       "      <td>0.000189</td>\n",
       "      <td>5.298317</td>\n",
       "    </tr>\n",
       "    <tr>\n",
       "      <th>3</th>\n",
       "      <td>57</td>\n",
       "      <td>3</td>\n",
       "      <td>19</td>\n",
       "      <td>20</td>\n",
       "      <td>400</td>\n",
       "      <td>107.6016</td>\n",
       "      <td>0.001034</td>\n",
       "      <td>0.000213</td>\n",
       "      <td>1</td>\n",
       "      <td>0.000053</td>\n",
       "      <td>...</td>\n",
       "      <td>0.003783</td>\n",
       "      <td>29.2203</td>\n",
       "      <td>53.7352</td>\n",
       "      <td>4.9155</td>\n",
       "      <td>19</td>\n",
       "      <td>0.000426</td>\n",
       "      <td>7</td>\n",
       "      <td>0.0</td>\n",
       "      <td>0.000384</td>\n",
       "      <td>5.991465</td>\n",
       "    </tr>\n",
       "    <tr>\n",
       "      <th>4</th>\n",
       "      <td>58</td>\n",
       "      <td>3</td>\n",
       "      <td>32</td>\n",
       "      <td>10</td>\n",
       "      <td>500</td>\n",
       "      <td>122.8908</td>\n",
       "      <td>0.001136</td>\n",
       "      <td>0.000327</td>\n",
       "      <td>2</td>\n",
       "      <td>0.000000</td>\n",
       "      <td>...</td>\n",
       "      <td>0.002368</td>\n",
       "      <td>22.6885</td>\n",
       "      <td>62.0813</td>\n",
       "      <td>9.3740</td>\n",
       "      <td>15</td>\n",
       "      <td>0.001174</td>\n",
       "      <td>4</td>\n",
       "      <td>0.0</td>\n",
       "      <td>0.000019</td>\n",
       "      <td>6.214608</td>\n",
       "    </tr>\n",
       "  </tbody>\n",
       "</table>\n",
       "<p>5 rows × 21 columns</p>\n",
       "</div>"
      ],
      "text/plain": [
       "   GameID  LeagueIndex  Age  HoursPerWeek  TotalHours       APM  \\\n",
       "0      52            5   27            10        3000  143.7180   \n",
       "1      55            5   23            10        5000  129.2322   \n",
       "2      56            4   30            10         200   69.9612   \n",
       "3      57            3   19            20         400  107.6016   \n",
       "4      58            3   32            10         500  122.8908   \n",
       "\n",
       "   SelectByHotkeys  AssignToHotkeys  UniqueHotkeys  MinimapAttacks  ...  \\\n",
       "0         0.003515         0.000220              7        0.000110  ...   \n",
       "1         0.003304         0.000259              4        0.000294  ...   \n",
       "2         0.001101         0.000336              4        0.000294  ...   \n",
       "3         0.001034         0.000213              1        0.000053  ...   \n",
       "4         0.001136         0.000327              2        0.000000  ...   \n",
       "\n",
       "   NumberOfPACs  GapBetweenPACs  ActionLatency  ActionsInPAC  \\\n",
       "0      0.004849         32.6677        40.8673        4.7508   \n",
       "1      0.004307         32.9194        42.3454        4.8434   \n",
       "2      0.002926         44.6475        75.3548        4.0430   \n",
       "3      0.003783         29.2203        53.7352        4.9155   \n",
       "4      0.002368         22.6885        62.0813        9.3740   \n",
       "\n",
       "   TotalMapExplored  WorkersMade  UniqueUnitsMade  ComplexUnitsMade  \\\n",
       "0                28     0.001397                6               0.0   \n",
       "1                22     0.001193                5               0.0   \n",
       "2                22     0.000745                6               0.0   \n",
       "3                19     0.000426                7               0.0   \n",
       "4                15     0.001174                4               0.0   \n",
       "\n",
       "   ComplexAbilitiesUsed  LogHours  \n",
       "0              0.000000  8.006368  \n",
       "1              0.000208  8.517193  \n",
       "2              0.000189  5.298317  \n",
       "3              0.000384  5.991465  \n",
       "4              0.000019  6.214608  \n",
       "\n",
       "[5 rows x 21 columns]"
      ]
     },
     "execution_count": 3,
     "metadata": {},
     "output_type": "execute_result"
    }
   ],
   "source": [
    "starcraft['LogHours'] = np.log(starcraft['TotalHours'])\n",
    "starcraft.head()"
   ]
  },
  {
   "cell_type": "markdown",
   "metadata": {},
   "source": [
    "# Scale and split the data"
   ]
  },
  {
   "cell_type": "code",
   "execution_count": 4,
   "metadata": {},
   "outputs": [
    {
     "data": {
      "text/plain": [
       "(3337, 21)"
      ]
     },
     "execution_count": 4,
     "metadata": {},
     "output_type": "execute_result"
    }
   ],
   "source": [
    "#Scale the features, ignoring game ID as its not a meaningful feature and of course not scaling league index as its the target\n",
    "starcraft2 = starcraft.reset_index(drop=True)\n",
    "star_scale = starcraft2.copy(deep=True)\n",
    "for col in feat_names:\n",
    "    scaler = RobustScaler()\n",
    "    star_scale[col] = pd.DataFrame(scaler.fit_transform(pd.DataFrame(star_scale[col])))\n",
    "star_scale.shape"
   ]
  },
  {
   "cell_type": "markdown",
   "metadata": {},
   "source": [
    "Split the data in to Target and Features, then use train test split to split in to training and test sets."
   ]
  },
  {
   "cell_type": "code",
   "execution_count": 5,
   "metadata": {},
   "outputs": [],
   "source": [
    "y = starcraft['LeagueIndex']\n",
    "X = star_scale[feat_names]\n",
    "Xtrain,Xtest,ytrain,ytest = train_test_split(X,y,random_state=42)"
   ]
  },
  {
   "cell_type": "markdown",
   "metadata": {},
   "source": [
    "Save the new data"
   ]
  },
  {
   "cell_type": "code",
   "execution_count": 6,
   "metadata": {},
   "outputs": [],
   "source": [
    "data_path = '../data/interim'\n",
    "Xtrain.to_csv(data_path+'Starcraft_Xtrain')\n",
    "ytrain.to_csv(data_path+'Starcraft_ytrain')\n",
    "Xtest.to_csv(data_path+'Starcraft_Xtest')\n",
    "ytest.to_csv(data_path+'Starcraft_ytest')"
   ]
  }
 ],
 "metadata": {
  "kernelspec": {
   "display_name": "Python 3",
   "language": "python",
   "name": "python3"
  },
  "language_info": {
   "codemirror_mode": {
    "name": "ipython",
    "version": 3
   },
   "file_extension": ".py",
   "mimetype": "text/x-python",
   "name": "python",
   "nbconvert_exporter": "python",
   "pygments_lexer": "ipython3",
   "version": "3.8.5"
  }
 },
 "nbformat": 4,
 "nbformat_minor": 4
}
