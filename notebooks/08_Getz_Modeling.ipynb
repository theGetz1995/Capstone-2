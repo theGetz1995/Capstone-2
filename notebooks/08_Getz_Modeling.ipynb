{
 "cells": [
  {
   "cell_type": "markdown",
   "metadata": {},
   "source": [
    "# Imports"
   ]
  },
  {
   "cell_type": "code",
   "execution_count": 31,
   "metadata": {},
   "outputs": [],
   "source": [
    "import pandas as pd\n",
    "import numpy as np\n",
    "import matplotlib.pyplot as plt\n",
    "import seaborn as sns\n",
    "from sklearn.ensemble import RandomForestClassifier\n",
    "from sklearn.model_selection import RandomizedSearchCV, GridSearchCV\n",
    "from sklearn.linear_model import LogisticRegression\n",
    "from sklearn.neighbors import KNeighborsClassifier\n",
    "from sklearn.metrics import confusion_matrix\n",
    "from sklearn.svm import SVC"
   ]
  },
  {
   "cell_type": "code",
   "execution_count": 2,
   "metadata": {},
   "outputs": [],
   "source": [
    "Xtest = pd.read_csv('../data/interimStarcraft_Xtest',index_col=0)\n",
    "Xtrain = pd.read_csv('../data/interimStarcraft_Xtrain',index_col=0)\n",
    "ytest = pd.read_csv('../data/interimStarcraft_ytest',index_col=0)\n",
    "ytrain = pd.read_csv('../data/interimStarcraft_ytrain',index_col=0)"
   ]
  },
  {
   "cell_type": "code",
   "execution_count": 3,
   "metadata": {},
   "outputs": [
    {
     "data": {
      "text/plain": [
       "(835,)"
      ]
     },
     "execution_count": 3,
     "metadata": {},
     "output_type": "execute_result"
    }
   ],
   "source": [
    "ytrain=ytrain['LeagueIndex']\n",
    "ytest=ytest['LeagueIndex']\n",
    "ytest.shape"
   ]
  },
  {
   "cell_type": "markdown",
   "metadata": {},
   "source": [
    "# Model Selection\n",
    "In the following notebook, we will be using a few different models along with their respective hyperparameter tuning to determine which model is best suited for our data set."
   ]
  },
  {
   "cell_type": "markdown",
   "metadata": {},
   "source": [
    "# Random Forest"
   ]
  },
  {
   "cell_type": "code",
   "execution_count": 13,
   "metadata": {
    "scrolled": false
   },
   "outputs": [
    {
     "data": {
      "text/plain": [
       "GridSearchCV(cv=5, estimator=RandomForestClassifier(random_state=42),\n",
       "             param_grid={'criterion': ['gini', 'entropy'],\n",
       "                         'max_depth': [1, 2, 3, 4, 5, 6, 7, 8, 9, 10, 11, 12,\n",
       "                                       13, 14, 15, 16, 17, 18, 19, 20, 21, 22,\n",
       "                                       23, 24, 25, 26, 27, 28, 29, 30, ...],\n",
       "                         'min_samples_leaf': array([ 1,  2,  3,  4,  5,  6,  7,  8,  9, 10, 11, 12, 13, 14, 15, 16, 17,\n",
       "       18, 19, 20, 21, 22, 23, 24, 25, 26, 27, 28, 29, 30, 31, 32, 33, 34,\n",
       "       35, 36, 37, 38, 39, 40, 41, 42, 43, 44, 45, 46, 47, 48, 49])})"
      ]
     },
     "execution_count": 13,
     "metadata": {},
     "output_type": "execute_result"
    }
   ],
   "source": [
    "maxDepth = list(range(1,50))\n",
    "maxDepth.append(None)\n",
    "paramGrid = {'criterion':['gini','entropy'],'max_depth':maxDepth,'min_samples_leaf':np.arange(1,50)}\n",
    "rf = RandomForestClassifier(random_state=42)\n",
    "rf_cv = GridSearchCV(rf,paramGrid,cv=5)\n",
    "rf_cv.fit(X=Xtrain,y=ytrain)"
   ]
  },
  {
   "cell_type": "code",
   "execution_count": 14,
   "metadata": {},
   "outputs": [
    {
     "data": {
      "text/plain": [
       "{'criterion': 'entropy', 'max_depth': 6, 'min_samples_leaf': 15}"
      ]
     },
     "execution_count": 14,
     "metadata": {},
     "output_type": "execute_result"
    }
   ],
   "source": [
    "rf_cv.best_params_"
   ]
  },
  {
   "cell_type": "code",
   "execution_count": 15,
   "metadata": {},
   "outputs": [
    {
     "data": {
      "text/plain": [
       "0.42286147704590815"
      ]
     },
     "execution_count": 15,
     "metadata": {},
     "output_type": "execute_result"
    }
   ],
   "source": [
    "rf_cv.best_score_"
   ]
  },
  {
   "cell_type": "markdown",
   "metadata": {},
   "source": [
    "# Logisitic Regression"
   ]
  },
  {
   "cell_type": "code",
   "execution_count": 16,
   "metadata": {},
   "outputs": [
    {
     "data": {
      "text/plain": [
       "GridSearchCV(cv=5,\n",
       "             estimator=LogisticRegression(max_iter=1000, random_state=42,\n",
       "                                          solver='newton-cg'),\n",
       "             param_grid={'C': [0.001, 0.01, 0.1, 1, 10, 100]})"
      ]
     },
     "execution_count": 16,
     "metadata": {},
     "output_type": "execute_result"
    }
   ],
   "source": [
    "cParamRange = [0.001,0.01,0.1,1,10,100]\n",
    "lr = LogisticRegression(random_state=42,solver='newton-cg',max_iter = 1000)\n",
    "lr_cv = GridSearchCV(lr,{'C':cParamRange},cv=5)\n",
    "lr_cv.fit(Xtrain,ytrain)"
   ]
  },
  {
   "cell_type": "code",
   "execution_count": 17,
   "metadata": {},
   "outputs": [
    {
     "data": {
      "text/plain": [
       "{'C': 0.1}"
      ]
     },
     "execution_count": 17,
     "metadata": {},
     "output_type": "execute_result"
    }
   ],
   "source": [
    "lr_cv.best_params_"
   ]
  },
  {
   "cell_type": "code",
   "execution_count": 18,
   "metadata": {},
   "outputs": [
    {
     "data": {
      "text/plain": [
       "0.4288654690618762"
      ]
     },
     "execution_count": 18,
     "metadata": {},
     "output_type": "execute_result"
    }
   ],
   "source": [
    "lr_cv.best_score_"
   ]
  },
  {
   "cell_type": "markdown",
   "metadata": {},
   "source": [
    "# KNN"
   ]
  },
  {
   "cell_type": "code",
   "execution_count": 19,
   "metadata": {},
   "outputs": [
    {
     "data": {
      "text/plain": [
       "GridSearchCV(cv=5, estimator=KNeighborsClassifier(),\n",
       "             param_grid={'n_neighbors': [1, 3, 5, 7, 9, 11],\n",
       "                         'weights': ['uniform', 'distance']})"
      ]
     },
     "execution_count": 19,
     "metadata": {},
     "output_type": "execute_result"
    }
   ],
   "source": [
    "nNeighbors = [1,3,5,7,9,11]\n",
    "paramGrid = {'n_neighbors':nNeighbors,'weights':['uniform', 'distance']}\n",
    "knn=KNeighborsClassifier()\n",
    "knn_cv = GridSearchCV(knn,paramGrid,cv=5)\n",
    "knn_cv.fit(Xtrain,ytrain)"
   ]
  },
  {
   "cell_type": "code",
   "execution_count": 20,
   "metadata": {},
   "outputs": [
    {
     "data": {
      "text/plain": [
       "{'n_neighbors': 9, 'weights': 'distance'}"
      ]
     },
     "execution_count": 20,
     "metadata": {},
     "output_type": "execute_result"
    }
   ],
   "source": [
    "knn_cv.best_params_"
   ]
  },
  {
   "cell_type": "code",
   "execution_count": 21,
   "metadata": {},
   "outputs": [
    {
     "data": {
      "text/plain": [
       "0.3656998003992015"
      ]
     },
     "execution_count": 21,
     "metadata": {},
     "output_type": "execute_result"
    }
   ],
   "source": [
    "knn_cv.best_score_"
   ]
  },
  {
   "cell_type": "markdown",
   "metadata": {},
   "source": [
    "# SVM"
   ]
  },
  {
   "cell_type": "code",
   "execution_count": 34,
   "metadata": {},
   "outputs": [
    {
     "name": "stdout",
     "output_type": "stream",
     "text": [
      "{'C': 1000, 'gamma': 0.001, 'kernel': 'rbf'}\n",
      "0.4220670658682635\n"
     ]
    }
   ],
   "source": [
    "paramGrid = {'C': [0.1, 1, 10, 100, 1000],'gamma': [1, 0.1, 0.01, 0.001, 0.0001],'kernel': ['rbf']}\n",
    "svm = SVC(random_state=42)\n",
    "svm_cv = GridSearchCV(svm,paramGrid,cv=5)\n",
    "svm_cv.fit(Xtrain,ytrain)\n",
    "print(svm_cv.best_params_)\n",
    "print(svm_cv.best_score_)"
   ]
  },
  {
   "cell_type": "markdown",
   "metadata": {},
   "source": [
    "# Logisitic Regression VS Random Forest VS SVM\n",
    "It seems that Logistic Regression, Random Forest and SVM out perform KNN. We will now run each model on our test set and check various metrics to evaluate model performance."
   ]
  },
  {
   "cell_type": "code",
   "execution_count": 35,
   "metadata": {},
   "outputs": [
    {
     "name": "stdout",
     "output_type": "stream",
     "text": [
      "Logisitic Regression accuracy score: 0.41077844311377243\n",
      "Random Forest accuracy score: 0.4035928143712575\n",
      "SVM accuracy score: 0.4311377245508982\n"
     ]
    },
    {
     "data": {
      "image/png": "[encoded data removed]",
      "text/plain": [
       "<Figure size 432x288 with 2 Axes>"
      ]
     },
     "metadata": {
      "needs_background": "light"
     },
     "output_type": "display_data"
    },
    {
     "data": {
      "image/png": "[encoded data removed]",
      "text/plain": [
       "<Figure size 432x288 with 2 Axes>"
      ]
     },
     "metadata": {
      "needs_background": "light"
     },
     "output_type": "display_data"
    },
    {
     "data": {
      "image/png": "[encoded data removed]",
      "text/plain": [
       "<Figure size 432x288 with 2 Axes>"
      ]
     },
     "metadata": {
      "needs_background": "light"
     },
     "output_type": "display_data"
    }
   ],
   "source": [
    "lr = LogisticRegression(C=.1,random_state=42,solver='newton-cg',max_iter = 1000)\n",
    "rf = RandomForestClassifier(random_state=42,criterion='entropy',max_depth=6,min_samples_leaf=15)\n",
    "svm = SVC(random_state=42,C=1000,gamma=.001,kernel='rbf')\n",
    "lr.fit(Xtrain,ytrain)\n",
    "rf.fit(Xtrain,ytrain)\n",
    "svm.fit(Xtrain,ytrain)\n",
    "ypredLR = lr.predict(Xtest)\n",
    "ypredRF = rf.predict(Xtest)\n",
    "ypredSVM= svm.predict(Xtest)\n",
    "print('Logisitic Regression accuracy score: '+str(lr.score(Xtest,ytest)))\n",
    "print('Random Forest accuracy score: '+str(rf.score(Xtest,ytest)))\n",
    "print('SVM accuracy score: '+str(svm.score(Xtest,ytest)))\n",
    "lrCnfMatrix = confusion_matrix(ytest,ypredLR)\n",
    "rfCnfMatrix = confusion_matrix(ytest,ypredRF)\n",
    "svmCnfMatrix = confusion_matrix(ytest,ypredSVM)\n",
    "group_counts = ['{0:0.0f}'.format(value) for value in\n",
    "                lrCnfMatrix.flatten()]\n",
    "labels = [f'{v1}' for v1 in group_counts]\n",
    "labels = np.asarray(labels).reshape(7,7)\n",
    "ax = sns.heatmap(lrCnfMatrix, annot=labels, fmt='', cmap='Blues')\n",
    "ax.set_xlabel('Predicted Label')\n",
    "ax.set_ylabel('Actual Label')\n",
    "plt.title('Confusion Matrix for Logisitic Regression')\n",
    "plt.show()\n",
    "group_counts = ['{0:0.0f}'.format(value) for value in\n",
    "                rfCnfMatrix.flatten()]\n",
    "labels = [f'{v1}' for v1 in group_counts]\n",
    "labels = np.asarray(labels).reshape(7,7)\n",
    "ax = sns.heatmap(rfCnfMatrix, annot=labels, fmt='', cmap='Blues')\n",
    "ax.set_xlabel('Predicted Label')\n",
    "ax.set_ylabel('Actual Label')\n",
    "plt.title('Confusion Matrix for Random Forest')\n",
    "plt.show()\n",
    "group_counts = ['{0:0.0f}'.format(value) for value in\n",
    "                svmCnfMatrix.flatten()]\n",
    "labels = [f'{v1}' for v1 in group_counts]\n",
    "labels = np.asarray(labels).reshape(7,7)\n",
    "ax = sns.heatmap(svmCnfMatrix, annot=labels, fmt='', cmap='Blues')\n",
    "ax.set_xlabel('Predicted Label')\n",
    "ax.set_ylabel('Actual Label')\n",
    "plt.title('Confusion Matrix for SVM')\n",
    "plt.show()"
   ]
  },
  {
   "cell_type": "markdown",
   "metadata": {},
   "source": [
    "# Conclusion\n",
    "The task of predicting League Index is a classification problem. We implemented 4 different machine learning algorithms and applied hyperparameter tuning through cross validation to determine which were viable models for use on our test set. We found that Random Forest, Logisitic Regression, and Support Vector Machines out performed KNN, though were all relatively closely grouped. We applied all three models to our test set and found their mean accuracy scores as well as plotted their confusion matrices. SVM seems to slightly outperform Random Forest and Logistic Regression, though all three models opperate in the low 40% range."
   ]
  },
  {
   "cell_type": "markdown",
   "metadata": {},
   "source": [
    "# Use Case\n",
    "A low 40% accuracy score isn't very confidence inspiring, fortunately the case where we need to take a set of features and predict League Index is rather uncommon. The predicitons here are best used as a check in. Frequently when playing Starcraft II a player will feel like their league isn't a true reflection of their skill due to bad luck or any other number of factors out of their control. These predicitons are then useful to determine what your true league might be. Should it match with your actual league, it means their is skill improvement necessary and we can consult our feature importances for where to focus our time. Should we be prediciting a higher league, its an indicator that the player may have indeed hit a string of bad luck, or other factors outside of their control which influence their league index."
   ]
  },
  {
   "cell_type": "code",
   "execution_count": null,
   "metadata": {},
   "outputs": [],
   "source": []
  }
 ],
 "metadata": {
  "kernelspec": {
   "display_name": "Python 3",
   "language": "python",
   "name": "python3"
  },
  "language_info": {
   "codemirror_mode": {
    "name": "ipython",
    "version": 3
   },
   "file_extension": ".py",
   "mimetype": "text/x-python",
   "name": "python",
   "nbconvert_exporter": "python",
   "pygments_lexer": "ipython3",
   "version": "3.8.5"
  }
 },
 "nbformat": 4,
 "nbformat_minor": 4
}
